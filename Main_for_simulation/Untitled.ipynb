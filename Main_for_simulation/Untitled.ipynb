{
 "cells": [
  {
   "cell_type": "code",
   "execution_count": 1,
   "id": "dccfcd9c",
   "metadata": {},
   "outputs": [],
   "source": [
    "from ctypes import * \n",
    "import numpy as np\n",
    "import matplotlib.pyplot as plt\n",
    "\n",
    "mysim = CDLL(\"F:\\git_workspace\\Multi-Particle-BeamLine-Simulation\\Main_for_simulation\\simulation_for_python.dll\")"
   ]
  },
  {
   "cell_type": "code",
   "execution_count": 2,
   "id": "aac672b0",
   "metadata": {},
   "outputs": [],
   "source": [
    "# 定义参数和返回值的类型\n",
    "mysim.init_beam.argtypes = [c_int, c_double, c_double, c_double]\n",
    "mysim.set_beamTwiss.argtypes = [c_double, c_double, c_double, c_double, c_double, c_double, c_double, c_double, c_double, c_double, c_double, c_double, c_uint]\n",
    "\n",
    "mysim.init_database.argtypes = [c_char_p]\n",
    "mysim.init_spacecharge.argtypes = [c_uint, c_uint, c_int]\n",
    "\n",
    "mysim.simulate_and_getEnvelope.restype = POINTER(POINTER(c_double))"
   ]
  },
  {
   "cell_type": "code",
   "execution_count": 3,
   "id": "41381197",
   "metadata": {},
   "outputs": [],
   "source": [
    "mysim.new_my_simulator()\n",
    "mysim.init_beam(1024, 939.294, 1.0, 0.015)\n",
    "mysim.set_beamTwiss(0, 0.01, 0.000015,0, 0.01, 0.000015,0, 65.430429, 0.05633529, 0, 4.611, 500, 1)\n",
    "\n",
    "mysim.init_database(b\"F:/git_workspace/Multi-Particle-BeamLine-Simulation/db/clapa1.db\")\n",
    "mysim.init_beamline_from_DB()\n",
    "\n",
    "mysim.init_spacecharge(32, 128, 3)\n",
    "\n",
    "envelope = mysim.simulate_and_getEnvelope()\n",
    "envelope_size = mysim.get_envelope_size()"
   ]
  },
  {
   "cell_type": "code",
   "execution_count": 4,
   "id": "e0e69749",
   "metadata": {},
   "outputs": [
    {
     "data": {
      "text/plain": [
       "12"
      ]
     },
     "execution_count": 4,
     "metadata": {},
     "output_type": "execute_result"
    }
   ],
   "source": [
    "envelope_size"
   ]
  },
  {
   "cell_type": "code",
   "execution_count": 5,
   "id": "878c2761",
   "metadata": {},
   "outputs": [
    {
     "data": {
      "text/plain": [
       "array([[0.00000000e+00, 0.00000000e+00, 0.00000000e+00, 0.00000000e+00],\n",
       "       [1.60000000e-01, 2.00833220e-03, 2.07259071e-03, 0.00000000e+00],\n",
       "       [1.90000000e-01, 2.46841984e-03, 2.54738123e-03, 0.00000000e+00],\n",
       "       [2.90000000e-01, 3.09604376e-03, 3.51227252e-03, 2.00000000e+00],\n",
       "       [3.20000000e-01, 3.29181100e-03, 5.40341951e-03, 2.00000000e+00],\n",
       "       [3.48000000e-01, 3.29787265e-03, 6.24661005e-03, 2.00000000e+00],\n",
       "       [5.48000000e-01, 3.90092667e-03, 8.17870250e-03, 2.00000000e+00],\n",
       "       [5.76000000e-01, 6.46855995e-03, 6.71126663e-03, 2.00000000e+00],\n",
       "       [6.06000000e-01, 7.30581766e-03, 6.03150461e-03, 2.00000000e+00],\n",
       "       [7.06000000e-01, 8.54469987e-03, 4.98044270e-03, 2.00000000e+00],\n",
       "       [7.36000000e-01, 8.61824056e-03, 4.53435099e-03, 2.00000000e+00],\n",
       "       [2.69600000e+00, 1.04146917e-03, 1.52853136e-03, 2.00000000e+00]])"
      ]
     },
     "execution_count": 5,
     "metadata": {},
     "output_type": "execute_result"
    }
   ],
   "source": [
    "np_envelope = []\n",
    "for i in range(envelope_size):\n",
    "    temp = []\n",
    "    for j in range(4):\n",
    "        temp.append(envelope[i][j])\n",
    "    np_envelope.append(temp)\n",
    "np_envelope = np.array(np_envelope)\n",
    "np_envelope"
   ]
  },
  {
   "cell_type": "code",
   "execution_count": 6,
   "id": "6378ae67",
   "metadata": {},
   "outputs": [
    {
     "data": {
      "image/png": "[encoded data removed]",
      "text/plain": [
       "<Figure size 432x288 with 1 Axes>"
      ]
     },
     "metadata": {
      "needs_background": "light"
     },
     "output_type": "display_data"
    }
   ],
   "source": [
    "plt.plot(np_envelope[:,0], np_envelope[:,1])\n",
    "plt.plot(np_envelope[:,0], np_envelope[:,2])\n",
    "plt.show()"
   ]
  },
  {
   "cell_type": "code",
   "execution_count": null,
   "id": "e1bf2a24",
   "metadata": {},
   "outputs": [],
   "source": []
  }
 ],
 "metadata": {
  "kernelspec": {
   "display_name": "Python 3 (ipykernel)",
   "language": "python",
   "name": "python3"
  },
  "language_info": {
   "codemirror_mode": {
    "name": "ipython",
    "version": 3
   },
   "file_extension": ".py",
   "mimetype": "text/x-python",
   "name": "python",
   "nbconvert_exporter": "python",
   "pygments_lexer": "ipython3",
   "version": "3.9.7"
  }
 },
 "nbformat": 4,
 "nbformat_minor": 5
}
